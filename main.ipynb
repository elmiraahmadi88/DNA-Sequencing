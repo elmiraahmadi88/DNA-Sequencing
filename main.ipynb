{
 "cells": [
  {
   "cell_type": "code",
   "execution_count": null,
   "id": "b98b1feb",
   "metadata": {},
   "outputs": [],
   "source": [
    "from Bio import SeqIO\n",
    "for sequence in SeqIO.parse('../input/dna-sequence-dataset/example_dna.fa', \"fasta\"):\n",
    "    print(sequence.id)\n",
    "    print(sequence.seq)\n",
    "    print(len(sequence))"
   ]
  },
  {
   "cell_type": "code",
   "execution_count": null,
   "id": "72e0ee6e",
   "metadata": {},
   "outputs": [],
   "source": [
    "import numpy as np\n",
    "import re\n",
    "def string_to_array(seq_string):\n",
    "   seq_string = seq_string.lower()\n",
    "   seq_string = re.sub('[^acgt]', 'n', seq_string)\n",
    "   seq_string = np.array(list(seq_string))\n",
    "   return seq_string\n",
    "# create a label encoder with 'acgtn' alphabet\n",
    "from sklearn.preprocessing import LabelEncoder\n",
    "label_encoder = LabelEncoder()\n",
    "label_encoder.fit(np.array(['a','c','g','t','z']))"
   ]
  },
  {
   "cell_type": "code",
   "execution_count": null,
   "id": "73feac0b",
   "metadata": {},
   "outputs": [],
   "source": [
    "def ordinal_encoder(my_array):\n",
    "    integer_encoded = label_encoder.transform(my_array)\n",
    "    float_encoded = integer_encoded.astype(float)\n",
    "    float_encoded[float_encoded == 0] = 0.25 # A\n",
    "    float_encoded[float_encoded == 1] = 0.50 # C\n",
    "    float_encoded[float_encoded == 2] = 0.75 # G\n",
    "    float_encoded[float_encoded == 3] = 1.00 # T\n",
    "    float_encoded[float_encoded == 4] = 0.00 # anything else, lets say n\n",
    "    return float_encoded\n",
    "\n",
    "\n",
    "#Let’s try it out a simple short sequence:\n",
    "seq_test = 'TTCAGCCAGTG'\n",
    "ordinal_encoder(string_to_array(seq_test))"
   ]
  },
  {
   "cell_type": "code",
   "execution_count": null,
   "id": "0fe4f1e9",
   "metadata": {},
   "outputs": [],
   "source": [
    "from sklearn.preprocessing import OneHotEncoder\n",
    "def one_hot_encoder(seq_string):\n",
    "    int_encoded = label_encoder.transform(seq_string)\n",
    "    onehot_encoder = OneHotEncoder(sparse=False, dtype=int)\n",
    "    int_encoded = int_encoded.reshape(len(int_encoded), 1)\n",
    "    onehot_encoded = onehot_encoder.fit_transform(int_encoded)\n",
    "    onehot_encoded = np.delete(onehot_encoded, -1, 1)\n",
    "    return onehot_encoded\n",
    "\n",
    "\n",
    "#So let’s try it out with a simple short sequence:\n",
    "seq_test = 'GAATTCTCGAA'\n",
    "one_hot_encoder(string_to_array(seq_test))"
   ]
  },
  {
   "cell_type": "code",
   "execution_count": null,
   "id": "903b605e",
   "metadata": {},
   "outputs": [],
   "source": [
    "def Kmers_funct(seq, size):\n",
    "    return [seq[x:x+size].lower() for x in range(len(seq) - size + 1)]\n",
    "\n",
    "\n",
    "#So let’s try it out with a simple sequence:\n",
    "mySeq = 'GTGCCCAGGTTCAGTGAGTGACACAGGCAG'\n",
    "Kmers_funct(mySeq, size=7)"
   ]
  },
  {
   "cell_type": "code",
   "execution_count": null,
   "id": "0fcd7f33",
   "metadata": {},
   "outputs": [],
   "source": [
    "words = Kmers_funct(mySeq, size=6)\n",
    "joined_sentence = ' '.join(words)\n",
    "joined_sentence"
   ]
  },
  {
   "cell_type": "code",
   "execution_count": null,
   "id": "e14f0403",
   "metadata": {},
   "outputs": [],
   "source": [
    "mySeq1 = 'TCTCACACATGTGCCAATCACTGTCACCC'\n",
    "mySeq2 = 'GTGCCCAGGTTCAGTGAGTGACACAGGCAG'\n",
    "sentence1 = ' '.join(Kmers_funct(mySeq1, size=6))\n",
    "sentence2 = ' '.join(Kmers_funct(mySeq2, size=6))"
   ]
  },
  {
   "cell_type": "code",
   "execution_count": null,
   "id": "0cdd2ab6",
   "metadata": {},
   "outputs": [],
   "source": [
    "#Creating the Bag of Words model:\n",
    "from sklearn.feature_extraction.text import CountVectorizer\n",
    "cv = CountVectorizer()\n",
    "X = cv.fit_transform([joined_sentence, sentence1, sentence2]).toarray()\n",
    "X"
   ]
  },
  {
   "cell_type": "code",
   "execution_count": null,
   "id": "ec74fe9b",
   "metadata": {},
   "outputs": [],
   "source": [
    "import numpy as np # linear algebra\n",
    "import pandas as pd # data processing, CSV file I/O (e.g. pd.read_csv)\n",
    "import os\n",
    "import matplotlib.pyplot as plt\n",
    "%matplotlib inline\n",
    "for dirname, _, filenames in os.walk('/kaggle/input'):\n",
    "    for filename in filenames:\n",
    "        print(os.path.join(dirname, filename))"
   ]
  },
  {
   "cell_type": "code",
   "execution_count": null,
   "id": "4dac1486",
   "metadata": {},
   "outputs": [],
   "source": [
    "human_dna = pd.read_table('../input/dna-sequence-dataset/human.txt')\n",
    "human_dna.head()"
   ]
  },
  {
   "cell_type": "code",
   "execution_count": null,
   "id": "809a518c",
   "metadata": {},
   "outputs": [],
   "source": [
    "human_dna['class'].value_counts().sort_index().plot.bar()\n",
    "plt.title(\"Class distribution of Human DNA\")"
   ]
  },
  {
   "cell_type": "code",
   "execution_count": null,
   "id": "2b6cc381",
   "metadata": {},
   "outputs": [],
   "source": [
    "chimp_dna = pd.read_table('../input/dna-sequence-dataset/chimpanzee.txt')\n",
    "chimp_dna.head()"
   ]
  },
  {
   "cell_type": "code",
   "execution_count": null,
   "id": "52cd629d",
   "metadata": {},
   "outputs": [],
   "source": [
    "chimp_dna['class'].value_counts().sort_index().plot.bar()\n",
    "plt.title(\"Class distribution of Chimpanzee DNA\")"
   ]
  },
  {
   "cell_type": "code",
   "execution_count": null,
   "id": "082d5fa8",
   "metadata": {},
   "outputs": [],
   "source": [
    "dog_dna = pd.read_table('../input/dna-sequence-dataset/dog.txt')\n",
    "dog_dna.head()"
   ]
  },
  {
   "cell_type": "code",
   "execution_count": null,
   "id": "3bf87e71",
   "metadata": {},
   "outputs": [],
   "source": [
    "dog_dna['class'].value_counts().sort_index().plot.bar()\n",
    "plt.title(\"Class distribution of Dog DNA\")"
   ]
  },
  {
   "cell_type": "code",
   "execution_count": null,
   "id": "b25ed1f8",
   "metadata": {},
   "outputs": [],
   "source": [
    "def Kmers_funct(seq, size=6):\n",
    "    return [seq[x:x+size].lower() for x in range(len(seq) - size + 1)]\n",
    "\n",
    "#convert our training data sequences into short overlapping k-mers of length 6. \n",
    "#Lets do that for each species of data we have using our Kmers_funct function.\n",
    "\n",
    "human_dna['words'] = human_dna.apply(lambda x: Kmers_funct(x['sequence']), axis=1)\n",
    "human_dna = human_dna.drop('sequence', axis=1)\n",
    "\n",
    "chimp_dna['words'] = chimp_dna.apply(lambda x: Kmers_funct(x['sequence']), axis=1)\n",
    "chimp_dna = chimp_dna.drop('sequence', axis=1)\n",
    "\n",
    "dog_dna['words'] = dog_dna.apply(lambda x: Kmers_funct(x['sequence']), axis=1)\n",
    "dog_dna = dog_dna.drop('sequence', axis=1)"
   ]
  },
  {
   "cell_type": "code",
   "execution_count": null,
   "id": "0b1b8dbb",
   "metadata": {},
   "outputs": [],
   "source": [
    "human_dna.head()"
   ]
  },
  {
   "cell_type": "code",
   "execution_count": null,
   "id": "2f8b4fca",
   "metadata": {},
   "outputs": [],
   "source": [
    "human_texts = list(human_dna['words'])\n",
    "for item in range(len(human_texts)):\n",
    "    human_texts[item] = ' '.join(human_texts[item])\n",
    "#separate labels\n",
    "y_human = human_dna.iloc[:, 0].values # y_human for human_dna"
   ]
  },
  {
   "cell_type": "code",
   "execution_count": null,
   "id": "72744213",
   "metadata": {},
   "outputs": [],
   "source": [
    "chimp_texts = list(chimp_dna['words'])\n",
    "for item in range(len(chimp_texts)):\n",
    "    chimp_texts[item] = ' '.join(chimp_texts[item])\n",
    "#separate labels\n",
    "y_chim = chimp_dna.iloc[:, 0].values # y_chim for chimp_dna\n",
    "\n",
    "dog_texts = list(dog_dna['words'])\n",
    "for item in range(len(dog_texts)):\n",
    "    dog_texts[item] = ' '.join(dog_texts[item])\n",
    "#separate labels\n",
    "y_dog = dog_dna.iloc[:, 0].values  # y_dog for dog_dna"
   ]
  },
  {
   "cell_type": "code",
   "execution_count": null,
   "id": "112137e3",
   "metadata": {},
   "outputs": [],
   "source": [
    "from sklearn.feature_extraction.text import CountVectorizer\n",
    "cv = CountVectorizer(ngram_range=(4,4)) #The n-gram size of 4 is previously determined by testing\n",
    "X = cv.fit_transform(human_texts)\n",
    "X_chimp = cv.transform(chimp_texts)\n",
    "X_dog = cv.transform(dog_texts)\n",
    "print(X.shape)\n",
    "print(X_chimp.shape)\n",
    "print(X_dog.shape)"
   ]
  },
  {
   "cell_type": "code",
   "execution_count": null,
   "id": "a1fd35a4",
   "metadata": {},
   "outputs": [],
   "source": [
    "# Splitting the human dataset into the training set and test set\n",
    "from sklearn.model_selection import train_test_split\n",
    "X_train, X_test, y_train, y_test = train_test_split(X, \n",
    "                                                    y_human, \n",
    "                                                    test_size = 0.20, \n",
    "                                                    random_state=42)"
   ]
  },
  {
   "cell_type": "code",
   "execution_count": null,
   "id": "d995a51c",
   "metadata": {},
   "outputs": [],
   "source": [
    "from sklearn.naive_bayes import MultinomialNB\n",
    "classifier = MultinomialNB(alpha=0.1)\n",
    "classifier.fit(X_train, y_train)"
   ]
  },
  {
   "cell_type": "code",
   "execution_count": null,
   "id": "9e6a2e50",
   "metadata": {},
   "outputs": [],
   "source": [
    "y_pred = classifier.predict(X_test)"
   ]
  },
  {
   "cell_type": "code",
   "execution_count": null,
   "id": "a8026d84",
   "metadata": {},
   "outputs": [],
   "source": [
    "from sklearn.metrics import accuracy_score, f1_score, precision_score, recall_score\n",
    "print(\"Confusion matrix for predictions on human test DNA sequence\\n\")\n",
    "print(pd.crosstab(pd.Series(y_test, name='Actual'), pd.Series(y_pred, name='Predicted')))\n",
    "def get_metrics(y_test, y_predicted):\n",
    "    accuracy = accuracy_score(y_test, y_predicted)\n",
    "    precision = precision_score(y_test, y_predicted, average='weighted')\n",
    "    recall = recall_score(y_test, y_predicted, average='weighted')\n",
    "    f1 = f1_score(y_test, y_predicted, average='weighted')\n",
    "    return accuracy, precision, recall, f1\n",
    "accuracy, precision, recall, f1 = get_metrics(y_test, y_pred)\n",
    "print(\"accuracy = %.3f \\nprecision = %.3f \\nrecall = %.3f \\nf1 = %.3f\" % (accuracy, precision, recall, f1))"
   ]
  },
  {
   "cell_type": "code",
   "execution_count": null,
   "id": "36996c80",
   "metadata": {},
   "outputs": [],
   "source": [
    "# Predicting the chimp, dog sequences\n",
    "y_pred_chimp = classifier.predict(X_chimp)"
   ]
  },
  {
   "cell_type": "code",
   "execution_count": null,
   "id": "cf14b454",
   "metadata": {},
   "outputs": [],
   "source": [
    "# performance on chimpanzee genes\n",
    "print(\"Confusion matrix for predictions on Chimpanzee test DNA sequence\\n\")\n",
    "print(pd.crosstab(pd.Series(y_chim, name='Actual'), pd.Series(y_pred_chimp, name='Predicted')))\n",
    "accuracy, precision, recall, f1 = get_metrics(y_chim, y_pred_chimp)\n",
    "print(\"accuracy = %.3f \\nprecision = %.3f \\nrecall = %.3f \\nf1 = %.3f\" % (accuracy, precision, recall, f1))"
   ]
  },
  {
   "cell_type": "code",
   "execution_count": null,
   "id": "b9f298ba",
   "metadata": {},
   "outputs": [],
   "source": [
    "y_pred_dog = classifier.predict(X_dog)"
   ]
  },
  {
   "cell_type": "code",
   "execution_count": null,
   "id": "20eb06d5",
   "metadata": {},
   "outputs": [],
   "source": [
    "# performance on dog genes\n",
    "print(\"Confusion matrix for predictions on Dog test DNA sequence\\n\")\n",
    "print(pd.crosstab(pd.Series(y_dog, name='Actual'), pd.Series(y_pred_dog, name='Predicted')))\n",
    "accuracy, precision, recall, f1 = get_metrics(y_dog, y_pred_dog)\n",
    "print(\"accuracy = %.3f \\nprecision = %.3f \\nrecall = %.3f \\nf1 = %.3f\" % (accuracy, precision, recall, f1))"
   ]
  },
  {
   "cell_type": "code",
   "execution_count": null,
   "id": "cb25a8c1",
   "metadata": {},
   "outputs": [],
   "source": []
  }
 ],
 "metadata": {
  "kernelspec": {
   "display_name": "Python 3 (ipykernel)",
   "language": "python",
   "name": "python3"
  },
  "language_info": {
   "codemirror_mode": {
    "name": "ipython",
    "version": 3
   },
   "file_extension": ".py",
   "mimetype": "text/x-python",
   "name": "python",
   "nbconvert_exporter": "python",
   "pygments_lexer": "ipython3",
   "version": "3.9.6"
  }
 },
 "nbformat": 4,
 "nbformat_minor": 5
}
